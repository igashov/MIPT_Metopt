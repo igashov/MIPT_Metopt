{
 "cells": [
  {
   "cell_type": "markdown",
   "metadata": {},
   "source": [
    "# Методы оптимизации.\n",
    "## Домашнее задание 2 (Kaggle)\n",
    "### Илья Игашов, 591 группа."
   ]
  },
  {
   "cell_type": "code",
   "execution_count": 1,
   "metadata": {
    "collapsed": false
   },
   "outputs": [],
   "source": [
    "import numpy as np \n",
    "import matplotlib.pyplot as plt\n",
    "%matplotlib inline\n",
    "\n",
    "import math\n",
    "import tqdm \n",
    "from PIL import Image "
   ]
  },
  {
   "cell_type": "markdown",
   "metadata": {},
   "source": [
    "Считываем названия картинок тренинговой выборки (в названии картинки написан класс, к которому она принадлежит)."
   ]
  },
  {
   "cell_type": "code",
   "execution_count": 2,
   "metadata": {
    "collapsed": false
   },
   "outputs": [],
   "source": [
    "%%bash \n",
    "ls train > train_files.txt"
   ]
  },
  {
   "cell_type": "markdown",
   "metadata": {},
   "source": [
    "Из каждого пикселя картинки выделим синюю компоненту и посчитаем по ней распределение синего цвета в картинке. На основе этих распределений мы и будем классифицировать картинки (кажется, у картинок indoor и outdoor эти распределения должны сильно отличаться). Затем отнормируем вектор распределений так, чтобы его элементы принимали значения от 1 до -1. "
   ]
  },
  {
   "cell_type": "code",
   "execution_count": 3,
   "metadata": {
    "collapsed": false
   },
   "outputs": [],
   "source": [
    "# Картинки обучающей выборки\n",
    "with open('train_files.txt', 'r') as f:\n",
    "    names = f.read().split('\\n')[:-1]\n",
    "    \n",
    "x_train = []\n",
    "y_train = []\n",
    "for line in names:\n",
    "    # Записываем класс каждой картинки в виде вектора вероятностей \n",
    "    # принадлежности картинки к каждому из двух классов\n",
    "    if line[0] == 'i':\n",
    "        # indoor\n",
    "        y_train.append([1, 0])\n",
    "    else:\n",
    "        # outdoor\n",
    "        y_train.append([0, 1])\n",
    "     \n",
    "    # Распределение синего цвета в картинке\n",
    "    image = Image.open('train/' + line)\n",
    "    pixels = np.array(list(image.getdata()))\n",
    "    blue = pixels[:, 2]\n",
    "    hist = np.histogram(blue)[0]\n",
    "    x_train.append((hist - 512) / 1024)\n",
    "x_train = np.array(x_train)\n",
    "y_train = np.array(y_train)"
   ]
  },
  {
   "cell_type": "code",
   "execution_count": 4,
   "metadata": {
    "collapsed": false
   },
   "outputs": [],
   "source": [
    "# Картинки тестовой выборки\n",
    "x_test = []\n",
    "for i in range(2960):\n",
    "    image = Image.open('test/img_' + str(i) + '.jpg')\n",
    "    pixels = np.array(list(image.getdata()))\n",
    "    blue = pixels[:, 2]\n",
    "    hist = np.histogram(blue)[0]\n",
    "    x_test.append((hist - 512) / 1024)\n",
    "x_test = np.array(x_test)"
   ]
  },
  {
   "cell_type": "code",
   "execution_count": 6,
   "metadata": {
    "collapsed": false
   },
   "outputs": [],
   "source": [
    "def softmax(W,b,x):\n",
    "    #todo - а можно ли написать лучше? и чем ваше решение лучше?\n",
    "    tmp = np.exp(np.dot(x,W.T)+b)\n",
    "    return (tmp.T/tmp.sum(axis=1)).T\n",
    "    \n",
    "def loss (y, pred):\n",
    "    entropy = np.array([\n",
    "            (y_t * np.log(y_p)).sum() \n",
    "            for y_t, y_p in zip(y, pred)\n",
    "        ])\n",
    "    return (-1) * np.average(entropy)"
   ]
  },
  {
   "cell_type": "code",
   "execution_count": 7,
   "metadata": {
    "collapsed": true
   },
   "outputs": [],
   "source": [
    "# Рассчитываем градиент\n",
    "def compute_gradients(out,x,y):\n",
    "    derivative = out - y\n",
    "    grad_b = np.array(derivative)\n",
    "    grad_W = np.matrix(derivative).T @ np.matrix(x)\n",
    "    grad = np.vstack((grad_W.T, grad_b))\n",
    "    return grad\n",
    "    \n",
    "\n",
    "# Усредняем по всем точкам\n",
    "# После усреднения мы разделяем нашу матрицу размера 65x10 на матрицу 10x64 и вектор и возвращаем их.\n",
    "def gradients(W,b,x,y):\n",
    "    sm = softmax(W,b,x)        \n",
    "    e = [ compute_gradients(a,b,c) for a,b,c in zip(sm,x,y) ]\n",
    "    mean_grad = np.mean(e, axis=0)\n",
    "    return np.delete(mean_grad, -1, axis=0).T, mean_grad[-1]"
   ]
  },
  {
   "cell_type": "code",
   "execution_count": 8,
   "metadata": {
    "collapsed": false
   },
   "outputs": [],
   "source": [
    "# Метод Армихо\n",
    "def armijo (W, b, x, y, dW, db, alpha=0.5, beta=0.5):\n",
    "    s = 100\n",
    "    while loss(y, softmax(W - s * dW, b - s * db, x)) > \\\n",
    "    loss(y, softmax(W, b, x)) - alpha * s * np.linalg.norm(np.vstack((dW.T, db))) ** 2:\n",
    "        s *= beta\n",
    "    return s"
   ]
  },
  {
   "cell_type": "code",
   "execution_count": 9,
   "metadata": {
    "collapsed": false
   },
   "outputs": [
    {
     "name": "stderr",
     "output_type": "stream",
     "text": [
      "100%|██████████| 100/100 [01:20<00:00,  1.25it/s]\n"
     ]
    }
   ],
   "source": [
    "# Обучаем модель на тренинговой выборке\n",
    "n_iter = 100\n",
    "W = np.zeros((y_train.shape[1], x_train.shape[1]))\n",
    "b = np.zeros(y_train.shape[1])\n",
    "losses_train=[]\n",
    "\n",
    "for i in tqdm.tqdm(range(n_iter)):\n",
    "    losses_train.append(loss(y_train, softmax(W,b,x_train)))\n",
    "    delta_W, delta_b = gradients(W,b,x_train,y_train)\n",
    "    eta = armijo(W, b, x_train, y_train, delta_W, delta_b)\n",
    "    W -= eta * delta_W\n",
    "    b -= eta * delta_b"
   ]
  },
  {
   "cell_type": "code",
   "execution_count": 10,
   "metadata": {
    "collapsed": false
   },
   "outputs": [
    {
     "name": "stdout",
     "output_type": "stream",
     "text": [
      "Loss minimum on training data: 0.547588\n",
      "Reached on 99 step\n"
     ]
    },
    {
     "data": {
      "image/png": "[encoded data removed]",
      "text/plain": [
       "<matplotlib.figure.Figure at 0x10f13c588>"
      ]
     },
     "metadata": {},
     "output_type": "display_data"
    }
   ],
   "source": [
    "# Смотрим, что получилось\n",
    "min_loss_train = np.min(losses_train)\n",
    "min_loss_idx_train = np.argmin(losses_train)\n",
    "\n",
    "print(\"Loss minimum on training data: %f\" % min_loss_train)\n",
    "print(\"Reached on %d step\"% min_loss_idx_train)\n",
    "\n",
    "plt.figure(figsize=(20, 10))\n",
    "plt.plot(np.arange(n_iter), losses_train, color='green', label=\"train\")\n",
    "plt.title(r'Gradient descend with Armijo method')\n",
    "plt.xlabel('Gradient descent iteration')\n",
    "plt.ylabel('Loss')\n",
    "plt.legend()\n",
    "plt.show()"
   ]
  },
  {
   "cell_type": "code",
   "execution_count": 11,
   "metadata": {
    "collapsed": false
   },
   "outputs": [
    {
     "name": "stdout",
     "output_type": "stream",
     "text": [
      "[[ 0.67745632  0.32254368]\n",
      " [ 0.63740428  0.36259572]\n",
      " [ 0.76375885  0.23624115]\n",
      " [ 0.73651723  0.26348277]\n",
      " [ 0.52267986  0.47732014]]\n"
     ]
    }
   ],
   "source": [
    "# Узнаем классы картинок тестовой выборки\n",
    "y_pred = softmax(W,b,x_test)\n",
    "print(y_pred[:5])"
   ]
  },
  {
   "cell_type": "code",
   "execution_count": 12,
   "metadata": {
    "collapsed": true
   },
   "outputs": [],
   "source": [
    "# Записываем в файл результат в нужном формате для Kaggle\n",
    "with open('prediction.csv', 'w') as f:\n",
    "    f.write('id,res\\n')\n",
    "    for i, p in enumerate(y_pred):\n",
    "        f.write(str(i) + ',' + str(p[0]) + '\\n')"
   ]
  },
  {
   "cell_type": "code",
   "execution_count": null,
   "metadata": {
    "collapsed": true
   },
   "outputs": [],
   "source": []
  }
 ],
 "metadata": {
  "anaconda-cloud": {},
  "kernelspec": {
   "display_name": "Python [Root]",
   "language": "python",
   "name": "Python [Root]"
  },
  "language_info": {
   "codemirror_mode": {
    "name": "ipython",
    "version": 3
   },
   "file_extension": ".py",
   "mimetype": "text/x-python",
   "name": "python",
   "nbconvert_exporter": "python",
   "pygments_lexer": "ipython3",
   "version": "3.5.2"
  }
 },
 "nbformat": 4,
 "nbformat_minor": 1
}
